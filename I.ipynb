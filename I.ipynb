{
 "cells": [
  {
   "cell_type": "code",
   "execution_count": null,
   "id": "40f05681-d46f-4f5e-ac38-790b7c24b7b7",
   "metadata": {},
   "outputs": [],
   "source": [
    "#mean=Sum of all the values/no of values\n",
    "speed=[10,20,30,35,15,80,90,43,28,67]"
   ]
  },
  {
   "cell_type": "code",
   "execution_count": null,
   "id": "fd2271e5-d845-4799-8829-c77b3db27470",
   "metadata": {},
   "outputs": [],
   "source": [
    "speed"
   ]
  },
  {
   "cell_type": "code",
   "execution_count": 3,
   "id": "77604e8e-261f-4f60-8790-398d65d6d824",
   "metadata": {},
   "outputs": [
    {
     "data": {
      "text/plain": [
       "41.8"
      ]
     },
     "execution_count": 3,
     "metadata": {},
     "output_type": "execute_result"
    }
   ],
   "source": [
    "(10+20+30+35+15+80+90+43+28+67)/10"
   ]
  },
  {
   "cell_type": "code",
   "execution_count": 7,
   "id": "9da02691-ef21-4197-ac4e-67bd7a17cc97",
   "metadata": {},
   "outputs": [
    {
     "name": "stdout",
     "output_type": "stream",
     "text": [
      "41.8\n"
     ]
    }
   ],
   "source": [
    "#mean with numpy\n",
    "import numpy as np\n",
    "speed=[10,20,30,35,15,80,90,43,28,67]\n",
    "x=np.mean(speed)\n",
    "x\n",
    "print(x)"
   ]
  },
  {
   "cell_type": "code",
   "execution_count": 1,
   "id": "a47f24c8-e597-4510-9531-025971248465",
   "metadata": {},
   "outputs": [
    {
     "name": "stdout",
     "output_type": "stream",
     "text": [
      "9.0\n"
     ]
    }
   ],
   "source": [
    "#xi=4,6,15,10,9\n",
    "#fi=5,10,8,7,10\n",
    "x=(4*5+6*10+15*8+10*7+9*10)/(5+10+8+7+10)\n",
    "print(x)"
   ]
  },
  {
   "cell_type": "code",
   "execution_count": 21,
   "id": "21e094c9-40d5-432f-8fb5-4fc622c887fb",
   "metadata": {},
   "outputs": [
    {
     "name": "stdout",
     "output_type": "stream",
     "text": [
      "32.5\n"
     ]
    }
   ],
   "source": [
    "#median\n",
    "import numpy as np\n",
    "speed=[10,20,30,35,15,80,90,43,28,67]\n",
    "x=np.median(speed)\n",
    "print(x)"
   ]
  },
  {
   "cell_type": "code",
   "execution_count": 24,
   "id": "8e68a3d5-be94-4858-9480-163c334bf002",
   "metadata": {},
   "outputs": [
    {
     "name": "stdout",
     "output_type": "stream",
     "text": [
      "median is:32.5\n"
     ]
    }
   ],
   "source": [
    "speed=[10,20,30,35,15,80,90,43,28,67]\n",
    "n=len(speed)\n",
    "speed.sort()\n",
    "\n",
    "if n%2==0:\n",
    "    median1=speed[n//2]\n",
    "    median2=speed[n//2-1]\n",
    "    median=(median1+median2)/2\n",
    "    \n",
    "else:\n",
    "    median=speed[n//2]\n",
    "print(\"median is:\"+str(median))"
   ]
  },
  {
   "cell_type": "code",
   "execution_count": 25,
   "id": "a52ab6c1-e446-4e3b-a31f-abf0546bc139",
   "metadata": {},
   "outputs": [
    {
     "name": "stdout",
     "output_type": "stream",
     "text": [
      "ModeResult(mode=np.int64(100), count=np.int64(3))\n"
     ]
    }
   ],
   "source": [
    "from scipy import stats\n",
    "speed=[100,90,56,45,100,67,100]\n",
    "x=stats.mode(speed)\n",
    "print(x)"
   ]
  },
  {
   "cell_type": "code",
   "execution_count": 27,
   "id": "4567d888-556a-469c-89ae-2091ed173eb0",
   "metadata": {},
   "outputs": [
    {
     "name": "stdout",
     "output_type": "stream",
     "text": [
      "76.40161702293366\n"
     ]
    }
   ],
   "source": [
    "from scipy import stats\n",
    "speed=[100,90,56,45,100,67,100]\n",
    "#Compute the weighted geometric mean along the specified axis\n",
    "x=stats.gmean(speed)\n",
    "print(x)"
   ]
  },
  {
   "cell_type": "code",
   "execution_count": 28,
   "id": "9fc2436b-de4d-4db3-8198-ef822b2a3f6d",
   "metadata": {},
   "outputs": [
    {
     "name": "stdout",
     "output_type": "stream",
     "text": [
      "72.82877953192592\n"
     ]
    }
   ],
   "source": [
    "from scipy import stats\n",
    "speed=[100,90,56,45,100,67,100]\n",
    "#Calculate the weighted harmonic mean along the specified axis\n",
    "x=stats.hmean(speed)\n",
    "print(x)"
   ]
  },
  {
   "cell_type": "code",
   "execution_count": 35,
   "id": "8d7bcb1c-e50c-470b-a860-9dc25c1eeb20",
   "metadata": {},
   "outputs": [
    {
     "name": "stdout",
     "output_type": "stream",
     "text": [
      "4.157111214492084\n"
     ]
    }
   ],
   "source": [
    "from scipy import stats\n",
    "\n",
    "#Calculate the weighted power mean along the specified axis\n",
    "x=stats.pmean([1, 2, 3, 4, 5, 6, 7], 1.3)\n",
    "print(x)"
   ]
  },
  {
   "cell_type": "code",
   "execution_count": 37,
   "id": "a0a2af13-d779-4936-8e30-d78458a7a627",
   "metadata": {},
   "outputs": [
    {
     "name": "stdout",
     "output_type": "stream",
     "text": [
      "ModeResult(mode=np.int64(20), count=np.int64(2))\n"
     ]
    }
   ],
   "source": [
    "n=[20,30,14,18,21,45,57,87,53,30,1,20]\n",
    "x=stats.mode(n)\n",
    "print(x)"
   ]
  },
  {
   "cell_type": "code",
   "execution_count": 38,
   "id": "9f2f86dd-2028-497e-82de-c6c092ee0dbc",
   "metadata": {},
   "outputs": [
    {
     "name": "stdout",
     "output_type": "stream",
     "text": [
      "{20, 30}\n"
     ]
    }
   ],
   "source": [
    "n=[20,30,14,18,21,45,57,87,53,30,1,20]\n",
    "emp_l1=[]\n",
    "emp_l2=[]\n",
    "for i in n:\n",
    "    if i not in emp_l1:\n",
    "        emp_l1.append(i)\n",
    "    else:\n",
    "        emp_l2.append(i)\n",
    "print(set(emp_l2))"
   ]
  },
  {
   "cell_type": "code",
   "execution_count": 40,
   "id": "ec2ebdd4-3193-4ee9-84ae-f02f425143cf",
   "metadata": {},
   "outputs": [
    {
     "name": "stdout",
     "output_type": "stream",
     "text": [
      "35\n"
     ]
    }
   ],
   "source": [
    "#measure Variability(Range,Interquartile range,Standard deviation,variance)\n",
    "#range\n",
    "import numpy\n",
    "values=[10,20,12,45,29,17]\n",
    "x=numpy.ptp(values)\n",
    "print(x)\n"
   ]
  },
  {
   "cell_type": "code",
   "execution_count": 41,
   "id": "1bf9fb74-f79f-4702-bff2-42f0c2b703b2",
   "metadata": {},
   "outputs": [
    {
     "name": "stdout",
     "output_type": "stream",
     "text": [
      "35\n"
     ]
    }
   ],
   "source": [
    "l=[10,20,12,45,29,17]\n",
    "print(max(l)-min(l))"
   ]
  },
  {
   "cell_type": "code",
   "execution_count": 44,
   "id": "daf63815-aa09-4985-add4-88bc35a508fb",
   "metadata": {},
   "outputs": [
    {
     "name": "stdout",
     "output_type": "stream",
     "text": [
      "2.9166666666666665\n",
      "28.166666666666668\n",
      "167.138\n"
     ]
    }
   ],
   "source": [
    "#variance\n",
    "import statistics\n",
    "print(statistics.variance([2,5,3,1]))\n",
    "print(statistics.variance([2,5,3,1,9,15]))\n",
    "print(statistics.variance([12,-5,31,16,9.7]))"
   ]
  },
  {
   "cell_type": "code",
   "execution_count": 45,
   "id": "fd53c7b9-59fb-4a2c-a281-2386b951792a",
   "metadata": {},
   "outputs": [
    {
     "name": "stdout",
     "output_type": "stream",
     "text": [
      "1.707825127659933\n",
      "5.307227776030219\n",
      "12.928186261034453\n"
     ]
    }
   ],
   "source": [
    "#standard deviation\n",
    "import statistics\n",
    "print(statistics.stdev([2,5,3,1]))\n",
    "print(statistics.stdev([2,5,3,1,9,15]))\n",
    "print(statistics.stdev([12,-5,31,16,9.7]))"
   ]
  },
  {
   "cell_type": "code",
   "execution_count": 51,
   "id": "1e30911d-134b-4d3e-8d16-2e8cfbc9664d",
   "metadata": {},
   "outputs": [
    {
     "name": "stdout",
     "output_type": "stream",
     "text": [
      "27.0\n",
      "39.0\n",
      "12.0\n",
      "low_limit is 9.0\n",
      "up_limit is 57.0\n",
      "31.0\n"
     ]
    }
   ],
   "source": [
    "#Interquartile range\n",
    "#claculate the median,lower quartile,upper quartile and interquartile range(26,37,24,28,35,22,31,53,41,64,29)\n",
    "data = np.array([22, 24, 26, 28, 29, 31, 35, 37, 41, 53,64])\n",
    "\n",
    "\n",
    "# Calculate Interquartile Range (IQR) using numpy\n",
    "q1 = np.percentile(data, 25)\n",
    "\n",
    "print(q1)\n",
    "q3 = np.percentile(data, 75)\n",
    "print(q3)\n",
    "iqr = q3 - q1\n",
    "\n",
    "print(iqr)\n",
    "\n",
    "\n",
    "\n",
    "low_lim = q1 - 1.5 * iqr\n",
    "up_lim = q3 + 1.5 * iqr\n",
    "print('low_limit is', low_lim)\n",
    "print('up_limit is', up_lim)\n",
    "\n",
    "\n",
    "q2 = np.percentile(data, 50)\n",
    "print(q2)"
   ]
  },
  {
   "cell_type": "code",
   "execution_count": null,
   "id": "ee34e245-a10b-4cc7-8d64-ba35848a92cf",
   "metadata": {},
   "outputs": [],
   "source": [
    "#Data Analysis->cleaning,modeling,and transforming data to find useful information \n",
    "#data visualization,data preprocessing,time series,data analysis tool"
   ]
  }
 ],
 "metadata": {
  "kernelspec": {
   "display_name": "Python 3 (ipykernel)",
   "language": "python",
   "name": "python3"
  },
  "language_info": {
   "codemirror_mode": {
    "name": "ipython",
    "version": 3
   },
   "file_extension": ".py",
   "mimetype": "text/x-python",
   "name": "python",
   "nbconvert_exporter": "python",
   "pygments_lexer": "ipython3",
   "version": "3.12.2"
  }
 },
 "nbformat": 4,
 "nbformat_minor": 5
}
